{
 "cells": [
  {
   "cell_type": "markdown",
   "id": "5058934e",
   "metadata": {},
   "source": [
    "## Car Price Prediction Regression Model\n",
    "\n",
    "### Project from Machine Learning Bookcamp, Alexey Grigorev\n",
    "### Copyright 2021, Manning Publications\n",
    "\n",
    "Written in Python version 3.10.7 <br>\n",
    "Jupyter Notebook built on Windows 11 local server using VS Code Jupyter Extension v2022.8.1002431955\n",
    "\n",
    "This project covers the following objectives:\n",
    "*Creating a regression model from scratch (that is, direct application of linear algebra, not using built-in regression functions)\n",
    "*Exploratory data analysis\n",
    "*Setting up and implementing a validation framework\n",
    "*Performing basic feature engineering\n",
    "*Controlling model through regularization\n",
    "*Using the model to predict car prices \n",
    "\n",
    "The main section of the project primarily follows code from book. Occasional comments and explanations are my own. All code and commentary in \"Challenge Problems\" section (code block 41 to end) is entirely my own."
   ]
  },
  {
   "cell_type": "code",
   "execution_count": 1,
   "id": "80891271",
   "metadata": {},
   "outputs": [],
   "source": [
    "import numpy as np\n",
    "import pandas as pd\n",
    "\n",
    "from matplotlib import pyplot as plt\n",
    "import seaborn as sns\n",
    "\n",
    "#allows jupyter to display plots correctly\n",
    "%matplotlib inline"
   ]
  },
  {
   "cell_type": "markdown",
   "id": "5d2bd1f9",
   "metadata": {},
   "source": [
    "data source: https://www.kaggle.com/datasets/CooperUnion/cardataset <br>\n",
    "downloaded 21 Sep 2022 (no license information at time of download)\n"
   ]
  },
  {
   "cell_type": "code",
   "execution_count": 2,
   "id": "bf17250a",
   "metadata": {},
   "outputs": [],
   "source": [
    "df = pd.read_csv('data.csv')"
   ]
  },
  {
   "cell_type": "code",
   "execution_count": 3,
   "id": "40cac093",
   "metadata": {},
   "outputs": [
    {
     "data": {
      "text/plain": [
       "11914"
      ]
     },
     "execution_count": 3,
     "metadata": {},
     "output_type": "execute_result"
    }
   ],
   "source": [
    "#check number of observations in table\n",
    "len(df)"
   ]
  },
  {
   "cell_type": "code",
   "execution_count": 4,
   "id": "b2f80699",
   "metadata": {},
   "outputs": [
    {
     "data": {
      "text/html": [
       "<div>\n",
       "<style scoped>\n",
       "    .dataframe tbody tr th:only-of-type {\n",
       "        vertical-align: middle;\n",
       "    }\n",
       "\n",
       "    .dataframe tbody tr th {\n",
       "        vertical-align: top;\n",
       "    }\n",
       "\n",
       "    .dataframe thead th {\n",
       "        text-align: right;\n",
       "    }\n",
       "</style>\n",
       "<table border=\"1\" class=\"dataframe\">\n",
       "  <thead>\n",
       "    <tr style=\"text-align: right;\">\n",
       "      <th></th>\n",
       "      <th>Make</th>\n",
       "      <th>Model</th>\n",
       "      <th>Year</th>\n",
       "      <th>Engine Fuel Type</th>\n",
       "      <th>Engine HP</th>\n",
       "      <th>Engine Cylinders</th>\n",
       "      <th>Transmission Type</th>\n",
       "      <th>Driven_Wheels</th>\n",
       "      <th>Number of Doors</th>\n",
       "      <th>Market Category</th>\n",
       "      <th>Vehicle Size</th>\n",
       "      <th>Vehicle Style</th>\n",
       "      <th>highway MPG</th>\n",
       "      <th>city mpg</th>\n",
       "      <th>Popularity</th>\n",
       "      <th>MSRP</th>\n",
       "    </tr>\n",
       "  </thead>\n",
       "  <tbody>\n",
       "    <tr>\n",
       "      <th>0</th>\n",
       "      <td>BMW</td>\n",
       "      <td>1 Series M</td>\n",
       "      <td>2011</td>\n",
       "      <td>premium unleaded (required)</td>\n",
       "      <td>335.0</td>\n",
       "      <td>6.0</td>\n",
       "      <td>MANUAL</td>\n",
       "      <td>rear wheel drive</td>\n",
       "      <td>2.0</td>\n",
       "      <td>Factory Tuner,Luxury,High-Performance</td>\n",
       "      <td>Compact</td>\n",
       "      <td>Coupe</td>\n",
       "      <td>26</td>\n",
       "      <td>19</td>\n",
       "      <td>3916</td>\n",
       "      <td>46135</td>\n",
       "    </tr>\n",
       "    <tr>\n",
       "      <th>1</th>\n",
       "      <td>BMW</td>\n",
       "      <td>1 Series</td>\n",
       "      <td>2011</td>\n",
       "      <td>premium unleaded (required)</td>\n",
       "      <td>300.0</td>\n",
       "      <td>6.0</td>\n",
       "      <td>MANUAL</td>\n",
       "      <td>rear wheel drive</td>\n",
       "      <td>2.0</td>\n",
       "      <td>Luxury,Performance</td>\n",
       "      <td>Compact</td>\n",
       "      <td>Convertible</td>\n",
       "      <td>28</td>\n",
       "      <td>19</td>\n",
       "      <td>3916</td>\n",
       "      <td>40650</td>\n",
       "    </tr>\n",
       "    <tr>\n",
       "      <th>2</th>\n",
       "      <td>BMW</td>\n",
       "      <td>1 Series</td>\n",
       "      <td>2011</td>\n",
       "      <td>premium unleaded (required)</td>\n",
       "      <td>300.0</td>\n",
       "      <td>6.0</td>\n",
       "      <td>MANUAL</td>\n",
       "      <td>rear wheel drive</td>\n",
       "      <td>2.0</td>\n",
       "      <td>Luxury,High-Performance</td>\n",
       "      <td>Compact</td>\n",
       "      <td>Coupe</td>\n",
       "      <td>28</td>\n",
       "      <td>20</td>\n",
       "      <td>3916</td>\n",
       "      <td>36350</td>\n",
       "    </tr>\n",
       "    <tr>\n",
       "      <th>3</th>\n",
       "      <td>BMW</td>\n",
       "      <td>1 Series</td>\n",
       "      <td>2011</td>\n",
       "      <td>premium unleaded (required)</td>\n",
       "      <td>230.0</td>\n",
       "      <td>6.0</td>\n",
       "      <td>MANUAL</td>\n",
       "      <td>rear wheel drive</td>\n",
       "      <td>2.0</td>\n",
       "      <td>Luxury,Performance</td>\n",
       "      <td>Compact</td>\n",
       "      <td>Coupe</td>\n",
       "      <td>28</td>\n",
       "      <td>18</td>\n",
       "      <td>3916</td>\n",
       "      <td>29450</td>\n",
       "    </tr>\n",
       "    <tr>\n",
       "      <th>4</th>\n",
       "      <td>BMW</td>\n",
       "      <td>1 Series</td>\n",
       "      <td>2011</td>\n",
       "      <td>premium unleaded (required)</td>\n",
       "      <td>230.0</td>\n",
       "      <td>6.0</td>\n",
       "      <td>MANUAL</td>\n",
       "      <td>rear wheel drive</td>\n",
       "      <td>2.0</td>\n",
       "      <td>Luxury</td>\n",
       "      <td>Compact</td>\n",
       "      <td>Convertible</td>\n",
       "      <td>28</td>\n",
       "      <td>18</td>\n",
       "      <td>3916</td>\n",
       "      <td>34500</td>\n",
       "    </tr>\n",
       "  </tbody>\n",
       "</table>\n",
       "</div>"
      ],
      "text/plain": [
       "  Make       Model  Year             Engine Fuel Type  Engine HP  \\\n",
       "0  BMW  1 Series M  2011  premium unleaded (required)      335.0   \n",
       "1  BMW    1 Series  2011  premium unleaded (required)      300.0   \n",
       "2  BMW    1 Series  2011  premium unleaded (required)      300.0   \n",
       "3  BMW    1 Series  2011  premium unleaded (required)      230.0   \n",
       "4  BMW    1 Series  2011  premium unleaded (required)      230.0   \n",
       "\n",
       "   Engine Cylinders Transmission Type     Driven_Wheels  Number of Doors  \\\n",
       "0               6.0            MANUAL  rear wheel drive              2.0   \n",
       "1               6.0            MANUAL  rear wheel drive              2.0   \n",
       "2               6.0            MANUAL  rear wheel drive              2.0   \n",
       "3               6.0            MANUAL  rear wheel drive              2.0   \n",
       "4               6.0            MANUAL  rear wheel drive              2.0   \n",
       "\n",
       "                         Market Category Vehicle Size Vehicle Style  \\\n",
       "0  Factory Tuner,Luxury,High-Performance      Compact         Coupe   \n",
       "1                     Luxury,Performance      Compact   Convertible   \n",
       "2                Luxury,High-Performance      Compact         Coupe   \n",
       "3                     Luxury,Performance      Compact         Coupe   \n",
       "4                                 Luxury      Compact   Convertible   \n",
       "\n",
       "   highway MPG  city mpg  Popularity   MSRP  \n",
       "0           26        19        3916  46135  \n",
       "1           28        19        3916  40650  \n",
       "2           28        20        3916  36350  \n",
       "3           28        18        3916  29450  \n",
       "4           28        18        3916  34500  "
      ]
     },
     "execution_count": 4,
     "metadata": {},
     "output_type": "execute_result"
    }
   ],
   "source": [
    "#examine structure\n",
    "df.head()"
   ]
  },
  {
   "cell_type": "code",
   "execution_count": 5,
   "id": "55cdf2f4",
   "metadata": {},
   "outputs": [],
   "source": [
    "#lowercase all column names and replace spaces with underscores\n",
    "df.columns = df.columns.str.lower().str.replace(' ', '_')\n",
    "\n",
    "#select all columns with string values\n",
    "string_columns = list(df.dtypes[df.dtypes == 'object'].index)\n",
    "\n",
    "#lowercases and replaces spaces with underscores for all string values\n",
    "for col in string_columns:\n",
    "    df[col] = df[col].str.lower().str.replace(' ', '_')"
   ]
  },
  {
   "cell_type": "code",
   "execution_count": 6,
   "id": "a3a9373d",
   "metadata": {},
   "outputs": [
    {
     "data": {
      "text/html": [
       "<div>\n",
       "<style scoped>\n",
       "    .dataframe tbody tr th:only-of-type {\n",
       "        vertical-align: middle;\n",
       "    }\n",
       "\n",
       "    .dataframe tbody tr th {\n",
       "        vertical-align: top;\n",
       "    }\n",
       "\n",
       "    .dataframe thead th {\n",
       "        text-align: right;\n",
       "    }\n",
       "</style>\n",
       "<table border=\"1\" class=\"dataframe\">\n",
       "  <thead>\n",
       "    <tr style=\"text-align: right;\">\n",
       "      <th></th>\n",
       "      <th>make</th>\n",
       "      <th>model</th>\n",
       "      <th>year</th>\n",
       "      <th>engine_fuel_type</th>\n",
       "      <th>engine_hp</th>\n",
       "      <th>engine_cylinders</th>\n",
       "      <th>transmission_type</th>\n",
       "      <th>driven_wheels</th>\n",
       "      <th>number_of_doors</th>\n",
       "      <th>market_category</th>\n",
       "      <th>vehicle_size</th>\n",
       "      <th>vehicle_style</th>\n",
       "      <th>highway_mpg</th>\n",
       "      <th>city_mpg</th>\n",
       "      <th>popularity</th>\n",
       "      <th>msrp</th>\n",
       "    </tr>\n",
       "  </thead>\n",
       "  <tbody>\n",
       "    <tr>\n",
       "      <th>0</th>\n",
       "      <td>bmw</td>\n",
       "      <td>1_series_m</td>\n",
       "      <td>2011</td>\n",
       "      <td>premium_unleaded_(required)</td>\n",
       "      <td>335.0</td>\n",
       "      <td>6.0</td>\n",
       "      <td>manual</td>\n",
       "      <td>rear_wheel_drive</td>\n",
       "      <td>2.0</td>\n",
       "      <td>factory_tuner,luxury,high-performance</td>\n",
       "      <td>compact</td>\n",
       "      <td>coupe</td>\n",
       "      <td>26</td>\n",
       "      <td>19</td>\n",
       "      <td>3916</td>\n",
       "      <td>46135</td>\n",
       "    </tr>\n",
       "    <tr>\n",
       "      <th>1</th>\n",
       "      <td>bmw</td>\n",
       "      <td>1_series</td>\n",
       "      <td>2011</td>\n",
       "      <td>premium_unleaded_(required)</td>\n",
       "      <td>300.0</td>\n",
       "      <td>6.0</td>\n",
       "      <td>manual</td>\n",
       "      <td>rear_wheel_drive</td>\n",
       "      <td>2.0</td>\n",
       "      <td>luxury,performance</td>\n",
       "      <td>compact</td>\n",
       "      <td>convertible</td>\n",
       "      <td>28</td>\n",
       "      <td>19</td>\n",
       "      <td>3916</td>\n",
       "      <td>40650</td>\n",
       "    </tr>\n",
       "    <tr>\n",
       "      <th>2</th>\n",
       "      <td>bmw</td>\n",
       "      <td>1_series</td>\n",
       "      <td>2011</td>\n",
       "      <td>premium_unleaded_(required)</td>\n",
       "      <td>300.0</td>\n",
       "      <td>6.0</td>\n",
       "      <td>manual</td>\n",
       "      <td>rear_wheel_drive</td>\n",
       "      <td>2.0</td>\n",
       "      <td>luxury,high-performance</td>\n",
       "      <td>compact</td>\n",
       "      <td>coupe</td>\n",
       "      <td>28</td>\n",
       "      <td>20</td>\n",
       "      <td>3916</td>\n",
       "      <td>36350</td>\n",
       "    </tr>\n",
       "    <tr>\n",
       "      <th>3</th>\n",
       "      <td>bmw</td>\n",
       "      <td>1_series</td>\n",
       "      <td>2011</td>\n",
       "      <td>premium_unleaded_(required)</td>\n",
       "      <td>230.0</td>\n",
       "      <td>6.0</td>\n",
       "      <td>manual</td>\n",
       "      <td>rear_wheel_drive</td>\n",
       "      <td>2.0</td>\n",
       "      <td>luxury,performance</td>\n",
       "      <td>compact</td>\n",
       "      <td>coupe</td>\n",
       "      <td>28</td>\n",
       "      <td>18</td>\n",
       "      <td>3916</td>\n",
       "      <td>29450</td>\n",
       "    </tr>\n",
       "    <tr>\n",
       "      <th>4</th>\n",
       "      <td>bmw</td>\n",
       "      <td>1_series</td>\n",
       "      <td>2011</td>\n",
       "      <td>premium_unleaded_(required)</td>\n",
       "      <td>230.0</td>\n",
       "      <td>6.0</td>\n",
       "      <td>manual</td>\n",
       "      <td>rear_wheel_drive</td>\n",
       "      <td>2.0</td>\n",
       "      <td>luxury</td>\n",
       "      <td>compact</td>\n",
       "      <td>convertible</td>\n",
       "      <td>28</td>\n",
       "      <td>18</td>\n",
       "      <td>3916</td>\n",
       "      <td>34500</td>\n",
       "    </tr>\n",
       "  </tbody>\n",
       "</table>\n",
       "</div>"
      ],
      "text/plain": [
       "  make       model  year             engine_fuel_type  engine_hp  \\\n",
       "0  bmw  1_series_m  2011  premium_unleaded_(required)      335.0   \n",
       "1  bmw    1_series  2011  premium_unleaded_(required)      300.0   \n",
       "2  bmw    1_series  2011  premium_unleaded_(required)      300.0   \n",
       "3  bmw    1_series  2011  premium_unleaded_(required)      230.0   \n",
       "4  bmw    1_series  2011  premium_unleaded_(required)      230.0   \n",
       "\n",
       "   engine_cylinders transmission_type     driven_wheels  number_of_doors  \\\n",
       "0               6.0            manual  rear_wheel_drive              2.0   \n",
       "1               6.0            manual  rear_wheel_drive              2.0   \n",
       "2               6.0            manual  rear_wheel_drive              2.0   \n",
       "3               6.0            manual  rear_wheel_drive              2.0   \n",
       "4               6.0            manual  rear_wheel_drive              2.0   \n",
       "\n",
       "                         market_category vehicle_size vehicle_style  \\\n",
       "0  factory_tuner,luxury,high-performance      compact         coupe   \n",
       "1                     luxury,performance      compact   convertible   \n",
       "2                luxury,high-performance      compact         coupe   \n",
       "3                     luxury,performance      compact         coupe   \n",
       "4                                 luxury      compact   convertible   \n",
       "\n",
       "   highway_mpg  city_mpg  popularity   msrp  \n",
       "0           26        19        3916  46135  \n",
       "1           28        19        3916  40650  \n",
       "2           28        20        3916  36350  \n",
       "3           28        18        3916  29450  \n",
       "4           28        18        3916  34500  "
      ]
     },
     "execution_count": 6,
     "metadata": {},
     "output_type": "execute_result"
    }
   ],
   "source": [
    "#examine structure after initial cleaning\n",
    "df.head()"
   ]
  },
  {
   "cell_type": "code",
   "execution_count": 7,
   "id": "c8050cdc",
   "metadata": {},
   "outputs": [
    {
     "data": {
      "text/plain": [
       "<AxesSubplot: xlabel='msrp', ylabel='Count'>"
      ]
     },
     "execution_count": 7,
     "metadata": {},
     "output_type": "execute_result"
    },
    {
     "data": {
      "image/png": "[encoded data removed]",
      "text/plain": [
       "<Figure size 640x480 with 1 Axes>"
      ]
     },
     "metadata": {},
     "output_type": "display_data"
    }
   ],
   "source": [
    "#visualize distribution of prices\n",
    "sns.histplot(df.msrp, bins = 40)"
   ]
  },
  {
   "cell_type": "code",
   "execution_count": 8,
   "id": "1446a353",
   "metadata": {},
   "outputs": [
    {
     "data": {
      "text/plain": [
       "<AxesSubplot: xlabel='msrp', ylabel='Count'>"
      ]
     },
     "execution_count": 8,
     "metadata": {},
     "output_type": "execute_result"
    },
    {
     "data": {
      "image/png": "[encoded data removed]",
      "text/plain": [
       "<Figure size 640x480 with 1 Axes>"
      ]
     },
     "metadata": {},
     "output_type": "display_data"
    }
   ],
   "source": [
    "#let's cut out the crazy expensive cars to see most of the data\n",
    "sns.histplot(df.msrp[df.msrp < 100000])"
   ]
  },
  {
   "cell_type": "code",
   "execution_count": 9,
   "id": "5f336682",
   "metadata": {},
   "outputs": [
    {
     "data": {
      "text/plain": [
       "<AxesSubplot: xlabel='msrp', ylabel='Count'>"
      ]
     },
     "execution_count": 9,
     "metadata": {},
     "output_type": "execute_result"
    },
    {
     "data": {
      "image/png": "[encoded data removed]",
      "text/plain": [
       "<Figure size 640x480 with 1 Axes>"
      ]
     },
     "metadata": {},
     "output_type": "display_data"
    }
   ],
   "source": [
    "#take the log transform of prices to account for high values\n",
    "log_price = np.log1p(df.msrp)\n",
    "\n",
    "#plot log of prices\n",
    "sns.histplot(log_price)"
   ]
  },
  {
   "cell_type": "code",
   "execution_count": 10,
   "id": "d2e0d491",
   "metadata": {},
   "outputs": [
    {
     "data": {
      "text/plain": [
       "make                    0\n",
       "model                   0\n",
       "year                    0\n",
       "engine_fuel_type        3\n",
       "engine_hp              69\n",
       "engine_cylinders       30\n",
       "transmission_type       0\n",
       "driven_wheels           0\n",
       "number_of_doors         6\n",
       "market_category      3742\n",
       "vehicle_size            0\n",
       "vehicle_style           0\n",
       "highway_mpg             0\n",
       "city_mpg                0\n",
       "popularity              0\n",
       "msrp                    0\n",
       "dtype: int64"
      ]
     },
     "execution_count": 10,
     "metadata": {},
     "output_type": "execute_result"
    }
   ],
   "source": [
    "#check for null values\n",
    "df.isnull().sum()"
   ]
  },
  {
   "cell_type": "code",
   "execution_count": 11,
   "id": "4c6074cf",
   "metadata": {},
   "outputs": [],
   "source": [
    "### split df into training (60%), validation (20%), and test (20%) sets\n",
    "\n",
    "#get number of rows in df\n",
    "n = len(df)\n",
    "\n",
    "#calculates number of rows in each partition\n",
    "n_val = int(0.2 * n)\n",
    "n_test = int(0.2 * n)\n",
    "n_train = n - n_val - n_test\n",
    "\n",
    "#set seed\n",
    "np.random.seed(2)\n",
    "\n",
    "#create array from 0 to n-1 and shuffle\n",
    "idx = np.arange(n)\n",
    "np.random.shuffle(idx)\n",
    "\n",
    "#shuffle original dataframe per output of previous line\n",
    "df_shuffled = df.iloc[idx]\n",
    "\n",
    "#create separate datasets\n",
    "df_train = df_shuffled.iloc[:n_train].copy()\n",
    "df_val = df_shuffled.iloc[n_train:n_train + n_val].copy()\n",
    "df_test = df_shuffled.iloc[n_train + n_val:].copy()"
   ]
  },
  {
   "cell_type": "code",
   "execution_count": 12,
   "id": "a9f87629",
   "metadata": {},
   "outputs": [],
   "source": [
    "#create log transform of msrp for each partition\n",
    "y_train = np.log1p(df_train.msrp.values)\n",
    "y_val = np.log1p(df_val.msrp.values)\n",
    "y_test = np.log1p(df_test.msrp.values)"
   ]
  },
  {
   "cell_type": "code",
   "execution_count": 13,
   "id": "3f378e7a",
   "metadata": {},
   "outputs": [],
   "source": [
    "#delete price column\n",
    "#ensures outputs aren't accidentally included in feature set\n",
    "del df_train['msrp']\n",
    "del df_val['msrp']\n",
    "del df_test['msrp']"
   ]
  },
  {
   "cell_type": "code",
   "execution_count": 14,
   "id": "14949d00",
   "metadata": {},
   "outputs": [],
   "source": [
    "#linear regression algorithm\n",
    "def train_linear_regression(X, y):\n",
    "    #add dummy column\n",
    "    ones = np.ones(X.shape[0])\n",
    "    X = np.column_stack([ones, X])\n",
    "    \n",
    "    #set up normal equation to calculate weights\n",
    "    XTX = X.T.dot(X)\n",
    "    XTX_inv = np.linalg.inv(XTX)\n",
    "    w = XTX_inv.dot(X.T).dot(y)\n",
    "    \n",
    "    #return bias term and rest of weights separately\n",
    "    return w[0], w[1:]"
   ]
  },
  {
   "cell_type": "code",
   "execution_count": 15,
   "id": "439d0627",
   "metadata": {},
   "outputs": [],
   "source": [
    "#select features for model training\n",
    "base = ['engine_hp', 'engine_cylinders', 'highway_mpg', \n",
    "        'city_mpg', 'popularity']\n",
    "df_num = df_train[base]\n",
    "\n",
    "#set all NAs equal to 0\n",
    "#setting to 0 rather than imputing values because:\n",
    "# 1. NAs are small proportion of data (<1% in selected columns)\n",
    "# 2. Will result in NAs being ignored in results.\n",
    "# Because of the small proportion, this \n",
    "# shouldn't overly bias resulting model.\n",
    "df_num = df_num.fillna(0)\n",
    "\n",
    "#create numpy array of values\n",
    "X_train = df_num.values\n",
    "\n",
    "#create regression model from selected features\n",
    "w_0, w = train_linear_regression(X_train, y_train)"
   ]
  },
  {
   "cell_type": "code",
   "execution_count": 16,
   "id": "c498a32a",
   "metadata": {},
   "outputs": [],
   "source": [
    "#get regression outputs using training data\n",
    "y_pred = w_0 + X_train.dot(w)"
   ]
  },
  {
   "cell_type": "code",
   "execution_count": 17,
   "id": "c46c6f2e",
   "metadata": {},
   "outputs": [
    {
     "data": {
      "text/plain": [
       "<matplotlib.legend.Legend at 0x23af1028f10>"
      ]
     },
     "execution_count": 17,
     "metadata": {},
     "output_type": "execute_result"
    },
    {
     "data": {
      "image/png": "[encoded data removed]",
      "text/plain": [
       "<Figure size 640x480 with 1 Axes>"
      ]
     },
     "metadata": {},
     "output_type": "display_data"
    }
   ],
   "source": [
    "#plot predictions vs. actual distribution\n",
    "sns.histplot(y_pred, label = 'prediction')\n",
    "sns.histplot(y_train, label = 'target')\n",
    "plt.xlabel('Log Price')\n",
    "plt.legend() #not totally sure why this doubles the legend\n",
    "\n",
    "#this model does not appear to match our target very well\n",
    "#in general, the model produces lower prices compared to the real value"
   ]
  },
  {
   "cell_type": "code",
   "execution_count": 18,
   "id": "3ab42a43",
   "metadata": {},
   "outputs": [
    {
     "data": {
      "text/plain": [
       "0.7554192603920132"
      ]
     },
     "execution_count": 18,
     "metadata": {},
     "output_type": "execute_result"
    }
   ],
   "source": [
    "#...but how much worse can't easily be quantified from the graph\n",
    "\n",
    "#function to find root mean squared error (RMSE)\n",
    "def rmse(y, y_pred):\n",
    "    error = y_pred - y\n",
    "    mse = (error ** 2).mean()\n",
    "    return np.sqrt(mse)\n",
    "\n",
    "rmse_base = rmse(y_train, y_pred)\n",
    "rmse_base\n",
    "#root mean squared error is e^(0.76), since output is log transformed"
   ]
  },
  {
   "cell_type": "code",
   "execution_count": 19,
   "id": "9c88f6c8",
   "metadata": {},
   "outputs": [
    {
     "data": {
      "text/plain": [
       "2017"
      ]
     },
     "execution_count": 19,
     "metadata": {},
     "output_type": "execute_result"
    }
   ],
   "source": [
    "#feature engineering\n",
    "\n",
    "#create derived age variable\n",
    "df_train.year.max() #newest vehicle from 2017 - use this as baseline"
   ]
  },
  {
   "cell_type": "code",
   "execution_count": 20,
   "id": "12aaeb47",
   "metadata": {},
   "outputs": [],
   "source": [
    "#subtract model year from 2017 to find age\n",
    "df_train['age'] = 2017 - df_train.year"
   ]
  },
  {
   "cell_type": "code",
   "execution_count": 21,
   "id": "382f14eb",
   "metadata": {},
   "outputs": [],
   "source": [
    "#function to clean up all datasets\n",
    "#calculates and appends age, fills NAs with zeroes\n",
    "\n",
    "def prepare_X(df):\n",
    "    df = df.copy() #copy prevents side effects\n",
    "    features = base.copy()\n",
    "    \n",
    "    df['age'] = 2017 - df.year\n",
    "    features.append('age')\n",
    "    \n",
    "    df_num = df[features]\n",
    "    df_num = df_num.fillna(0)\n",
    "    X = df_num.values\n",
    "    return X"
   ]
  },
  {
   "cell_type": "code",
   "execution_count": 22,
   "id": "c0576574",
   "metadata": {},
   "outputs": [
    {
     "name": "stdout",
     "output_type": "stream",
     "text": [
      "validation: 0.5172055461058299\n"
     ]
    }
   ],
   "source": [
    "#check to see if adding age to model improves fit\n",
    "\n",
    "#first clean up training and validation dataframes\n",
    "X_train = prepare_X(df_train)\n",
    "X_val = prepare_X(df_val)\n",
    "\n",
    "#train model and predict validation output\n",
    "w_0, w = train_linear_regression(X_train, y_train)\n",
    "y_pred = w_0 + X_val.dot(w)\n",
    "\n",
    "#calculate rmse\n",
    "print('validation:', rmse(y_val, y_pred))\n",
    "#rmse is lower than before - now only e^(0.51)"
   ]
  },
  {
   "cell_type": "code",
   "execution_count": 23,
   "id": "1c005b51",
   "metadata": {},
   "outputs": [
    {
     "data": {
      "text/plain": [
       "<matplotlib.legend.Legend at 0x23af45c5f60>"
      ]
     },
     "execution_count": 23,
     "metadata": {},
     "output_type": "execute_result"
    },
    {
     "data": {
      "image/png": "[encoded data removed]",
      "text/plain": [
       "<Figure size 640x480 with 1 Axes>"
      ]
     },
     "metadata": {},
     "output_type": "display_data"
    }
   ],
   "source": [
    "#plot this output - clearly better match than previous\n",
    "sns.histplot(y_pred, label = 'prediction')\n",
    "sns.histplot(y_val, label = 'target')\n",
    "plt.legend()"
   ]
  },
  {
   "cell_type": "code",
   "execution_count": 24,
   "id": "50cd2f38",
   "metadata": {},
   "outputs": [],
   "source": [
    "#adding another feature - number of doors\n",
    "\n",
    "#first, we need to encode number of doors as a categorical variable\n",
    "#we also want to try to factor in make\n",
    "#add to prepare_X function\n",
    "\n",
    "def prepare_X(df):\n",
    "    df = df.copy() #copy prevents side effects\n",
    "    features = base.copy()\n",
    "    \n",
    "    #calculate age relative to creation of dataset (2017)\n",
    "    df['age'] = 2017 - df.year\n",
    "    features.append('age')\n",
    "    \n",
    "    #create categorical variables (T-F) based on number of doors\n",
    "    for v in [2, 3, 4]:\n",
    "        feature = 'num_doors_%s' % v\n",
    "        #encode True-False as 1 and 0\n",
    "        df[feature] = (df['number_of_doors'] == v).astype(int)\n",
    "        features.append(feature)\n",
    "        \n",
    "    #create categorical variables (T-F) based on common makes\n",
    "    for v in ['chevrolet', 'ford', 'volkswagen', 'toyota', 'dodge']:\n",
    "        feature = 'is_make_%s' % v\n",
    "        df[feature] = (df['make'] == v).astype(int)\n",
    "        features.append(feature) \n",
    "    \n",
    "    df_num = df[features]\n",
    "    df_num = df_num.fillna(0)\n",
    "    X = df_num.values\n",
    "    return X"
   ]
  },
  {
   "cell_type": "code",
   "execution_count": 25,
   "id": "8cd0e0da",
   "metadata": {},
   "outputs": [],
   "source": [
    "#run model again\n",
    "X_train = prepare_X(df_train)\n",
    "w_0, w = train_linear_regression(X_train, y_train)"
   ]
  },
  {
   "cell_type": "code",
   "execution_count": 26,
   "id": "f4c87d02",
   "metadata": {},
   "outputs": [
    {
     "name": "stdout",
     "output_type": "stream",
     "text": [
      "validation: 0.50760388495567\n"
     ]
    }
   ],
   "source": [
    "X_val = prepare_X(df_val)\n",
    "y_pred = w_0 + X_val.dot(w)\n",
    "print('validation:', rmse(y_val, y_pred))\n",
    "\n",
    "#slightly better than the last, but only by factor of ~e^0.01"
   ]
  },
  {
   "cell_type": "code",
   "execution_count": 27,
   "id": "de87df76",
   "metadata": {},
   "outputs": [],
   "source": [
    "#add more categorical features\n",
    "\n",
    "def prepare_X(df):\n",
    "    #the smart way to do this would have been\n",
    "    #to write a function to do this by category\n",
    "    #we'll fix it in post\n",
    "    ###(maybe this is slightly more computationally efficient than\n",
    "    ###repeatedly finding unique values though?)\n",
    "    \n",
    "    df = df.copy() #copy prevents side effects\n",
    "    features = base.copy()\n",
    "    \n",
    "    #calculate age relative to creation of dataset (2017)\n",
    "    df['age'] = 2017 - df.year\n",
    "    features.append('age')\n",
    "    \n",
    "    #create categorical variables (T-F) based on number of doors\n",
    "    for v in [2, 3, 4]:\n",
    "        feature = 'num_doors_%s' % v\n",
    "        #encode True-False as 1 and 0\n",
    "        df[feature] = (df['number_of_doors'] == v).astype(int)\n",
    "        features.append(feature)\n",
    "        \n",
    "    #create categorical variables (T-F) based on common makes\n",
    "    for v in ['chevrolet', 'ford', 'volkswagen', 'toyota', 'dodge']:\n",
    "        feature = 'is_make_%s' % v\n",
    "        df[feature] = (df['make'] == v).astype(int)\n",
    "        features.append(feature)\n",
    "    \n",
    "    #fuel type\n",
    "    for v in ['regular_unleaded', 'premium_unleaded_(required)',\n",
    "              'premium_unleaded_(recommended)',\n",
    "              'flex-fuel_(unleaded/e85)']:\n",
    "        feature = 'is_type_%s' % v\n",
    "        df[feature] = (df['engine_fuel_type'] == v).astype(int)\n",
    "        features.append(feature)\n",
    "    \n",
    "    #transmission type\n",
    "    for v in ['automatic', 'manual', 'automated_manual']:\n",
    "        feature = 'is_transmission_%s' % v\n",
    "        df[feature] = (df['transmission_type'] == v).astype(int)\n",
    "        features.append(feature)\n",
    "        \n",
    "    #drivetrain type\n",
    "    for v in ['front_wheel_drive', 'rear_wheel_drive', \n",
    "             'all_wheel_drive', 'four_wheel_drive']:\n",
    "        feature = 'is_driven_wheels_%s' % v\n",
    "        df[feature] = (df['driven_wheels'] == v).astype(int)\n",
    "        features.append(feature)\n",
    "    \n",
    "    #market category type\n",
    "    for v in ['crossover', 'flex_fuel', 'luxury', 'luxury,performance',\n",
    "             'hatchback']:\n",
    "        feature = 'is_mc_%s' % v\n",
    "        df[feature] = (df['market_category'] == v).astype(int)\n",
    "        features.append(feature)\n",
    "        \n",
    "    #size\n",
    "    for v in ['compact', 'midsize', 'large']:\n",
    "        feature = 'is_size_%s' % v\n",
    "        df[feature] = (df['vehicle_size'] == v).astype(int)\n",
    "        features.append(feature)\n",
    "    \n",
    "    #style\n",
    "    for v in ['sedan', '4dr_suv', 'coupe', 'convertible', \n",
    "             '4dr_hatchback']:\n",
    "        feature = 'is_style_%s' % v\n",
    "        df[feature] = (df['vehicle_style'] == v).astype(int)\n",
    "        features.append(feature)\n",
    "    \n",
    "    df_num = df[features]\n",
    "    df_num = df_num.fillna(0)\n",
    "    X = df_num.values\n",
    "    return X"
   ]
  },
  {
   "cell_type": "code",
   "execution_count": 28,
   "id": "67c38b0c",
   "metadata": {},
   "outputs": [
    {
     "name": "stdout",
     "output_type": "stream",
     "text": [
      "validation: 49.873533583264866\n"
     ]
    }
   ],
   "source": [
    "#run model again\n",
    "X_train = prepare_X(df_train)\n",
    "w_0, w = train_linear_regression(X_train, y_train)\n",
    "\n",
    "X_val = prepare_X(df_val)\n",
    "y_pred = w_0 + X_val.dot(w)\n",
    "print('validation:', rmse(y_val, y_pred))\n",
    "\n",
    "#this is MASSIVELY worse than before - multiple orders of magnitude!"
   ]
  },
  {
   "cell_type": "code",
   "execution_count": 29,
   "id": "34bf647d",
   "metadata": {},
   "outputs": [
    {
     "name": "stdout",
     "output_type": "stream",
     "text": [
      "-2765770327625654.0 [-2.96152341e-02  1.48385504e+00 -2.02208746e-01  5.87693934e+00\n",
      " -8.73768713e-03  1.00915575e+00  1.22843884e+03  1.22405055e+03\n",
      "  1.21055658e+03 -3.94291505e+00  2.95829625e+01 -3.11315579e+01\n",
      " -9.59444240e+00  1.13775195e+01 -6.93387792e+01 -7.50488444e+01\n",
      " -8.67311064e+01 -6.28864984e+01  7.05316803e+02  7.11500463e+02\n",
      "  7.90258140e+02  2.76577033e+15  2.76577033e+15  2.76577033e+15\n",
      "  2.76577033e+15  1.06406250e+01  5.29161740e+00 -1.59142884e+01\n",
      " -5.52287650e+00  2.12653527e+01  1.04462289e+01  3.25743754e+01\n",
      "  4.86575180e+01 -7.67460186e-02  4.14645821e-02  1.86187511e-01\n",
      "  3.55798979e-01 -2.14066472e-01]\n"
     ]
    }
   ],
   "source": [
    "#why is this worse? let's check w_0 and w\n",
    "print(w_0, w)\n",
    "#the bias term - w_0 - has an extreme negative value!"
   ]
  },
  {
   "cell_type": "code",
   "execution_count": 30,
   "id": "d85d2757",
   "metadata": {},
   "outputs": [],
   "source": [
    "#This is probably due to numerical instability -\n",
    "#most likely due to adding nearly identical columns with the\n",
    "#addition of lots of categorical variables. For instance, the \n",
    "#'flex-fuel' fuel type and 'flex_fuel' market categories are probably\n",
    "#almost identical.\n",
    "\n",
    "#In order to fix this, we need to regularize the matrix (aka\n",
    "#ridge regression)."
   ]
  },
  {
   "cell_type": "code",
   "execution_count": 31,
   "id": "9c7fea26",
   "metadata": {},
   "outputs": [],
   "source": [
    "#add regularization term to training function\n",
    "\n",
    "def train_linear_regression_reg(X, y, r=0.0):\n",
    "    #add dummy column for bias term\n",
    "    ones = np.ones(X.shape[0])\n",
    "    X = np.column_stack([ones, X])\n",
    "    \n",
    "    #calculate XTX and add reguluarization term\n",
    "    XTX = X.T.dot(X)\n",
    "    reg = r * np.eye(XTX.shape[0])\n",
    "    XTX = XTX + reg\n",
    "    \n",
    "    #get weights\n",
    "    XTX_inv = np.linalg.inv(XTX)\n",
    "    w = XTX_inv.dot(X.T).dot(y)\n",
    "    \n",
    "    return w[0], w[1:]"
   ]
  },
  {
   "cell_type": "code",
   "execution_count": 32,
   "id": "9ecbd790",
   "metadata": {},
   "outputs": [
    {
     "name": "stdout",
     "output_type": "stream",
     "text": [
      "    0, -2765770327625654.00, 11.38, 2765770327623687.00\n",
      "0.001, 7.20, -0.10, 1.81\n",
      " 0.01, 7.18, -0.10, 1.81\n",
      "  0.1, 7.05, -0.10, 1.78\n",
      "    1, 6.22, -0.10, 1.56\n",
      "   10, 4.39, -0.09, 1.08\n"
     ]
    }
   ],
   "source": [
    "#let's try different values of r\n",
    "for r in [0, 0.001, 0.01, 0.1, 1, 10]:\n",
    "    w_0, w = train_linear_regression_reg(X_train, y_train, r = r)\n",
    "    print('%5s, %.2f, %.2f, %.2f' % (r, w_0, w[13], w[21]))\n",
    "\n",
    "#even a tiny regularization term seems to produce reasonable coefficients"
   ]
  },
  {
   "cell_type": "code",
   "execution_count": 33,
   "id": "04bcc0b6",
   "metadata": {},
   "outputs": [
    {
     "name": "stdout",
     "output_type": "stream",
     "text": [
      "validation: 0.46022676259116185\n"
     ]
    }
   ],
   "source": [
    "#run a model with r = 0.001\n",
    "X_train = prepare_X(df_train)\n",
    "w_0, w = train_linear_regression_reg(X_train, y_train, r = 0.001)\n",
    "\n",
    "X_val = prepare_X(df_val)\n",
    "y_pred = w_0 + X_val.dot(w)\n",
    "print('validation:', rmse(y_val, y_pred))\n",
    "#and now we get our best rmse yet - just e^(0.46)..."
   ]
  },
  {
   "cell_type": "code",
   "execution_count": 34,
   "id": "a40d5a04",
   "metadata": {},
   "outputs": [
    {
     "data": {
      "text/plain": [
       "1.5840739849944818"
      ]
     },
     "execution_count": 34,
     "metadata": {},
     "output_type": "execute_result"
    }
   ],
   "source": [
    "#...which comes out to an absolute factor of about 1.58\n",
    "np.exp(0.46)"
   ]
  },
  {
   "cell_type": "code",
   "execution_count": 35,
   "id": "9d19aa25",
   "metadata": {},
   "outputs": [
    {
     "name": "stdout",
     "output_type": "stream",
     "text": [
      "1e-06 0.46023\n",
      "1e-05 0.46023\n",
      "0.0001 0.46023\n",
      "0.001 0.46023\n",
      "0.01 0.46024\n",
      "0.1 0.46037\n",
      "1 0.46183\n",
      "10 0.47572\n"
     ]
    }
   ],
   "source": [
    "#trying other values of r\n",
    "X_train = prepare_X(df_train)\n",
    "X_val = prepare_X(df_val)\n",
    "\n",
    "for r in range(-6,2):\n",
    "    w_0, w = train_linear_regression_reg(X_train, y_train, r = 10**r)\n",
    "    y_pred = w_0 + X_val.dot(w)\n",
    "    print(10**r, round(rmse(y_val, y_pred),5))"
   ]
  },
  {
   "cell_type": "code",
   "execution_count": 36,
   "id": "29b224f3",
   "metadata": {},
   "outputs": [
    {
     "name": "stdout",
     "output_type": "stream",
     "text": [
      "validation: 0.46024\n",
      "test: 0.45718\n"
     ]
    }
   ],
   "source": [
    "#rmse values for r below 0.1 are nearly identical\n",
    "\n",
    "#taking r = 0.1 to build the final model\n",
    "X_train = prepare_X(df_train)\n",
    "X_val = prepare_X(df_val)\n",
    "X_test = prepare_X(df_test)\n",
    "\n",
    "w_0, w = train_linear_regression_reg(X_train, y_train, r = 0.01)\n",
    "y_pred = w_0 + X_val.dot(w)\n",
    "print('validation:', round(rmse(y_val, y_pred), 5))\n",
    "\n",
    "y_pred = w_0 + X_test.dot(w)\n",
    "print('test:', round(rmse(y_test, y_pred), 5))\n",
    "#these are pretty close, so it looks like we can use the model"
   ]
  },
  {
   "cell_type": "code",
   "execution_count": 37,
   "id": "f54ca638",
   "metadata": {},
   "outputs": [],
   "source": [
    "#try out model on new data\n",
    "\n",
    "#first, build the new car\n",
    "ad = {\n",
    "    'city_mpg': 18,\n",
    "    'driven_wheels': 'all_wheel_drive',\n",
    "    'engine_cylinders': 6.0,\n",
    "    'engine_fuel_type': 'regular_unleaded',\n",
    "    'engine_hp': 268.0,\n",
    "    'highway_mpg': 25,\n",
    "    'make': 'toyota',\n",
    "    'market_category': 'crossover,performance',\n",
    "    'model': 'venza',\n",
    "    'number_of_doors': 4.0,\n",
    "    'popularity': 2031,\n",
    "    'transmission_type': 'automatic',\n",
    "    'vehicle_size': 'midsize',\n",
    "    'vehicle_style': 'wagon',\n",
    "    'year': 2013\n",
    "}"
   ]
  },
  {
   "cell_type": "code",
   "execution_count": 38,
   "id": "32273b89",
   "metadata": {},
   "outputs": [
    {
     "data": {
      "text/plain": [
       "10.250445193514558"
      ]
     },
     "execution_count": 38,
     "metadata": {},
     "output_type": "execute_result"
    }
   ],
   "source": [
    "#transform into dataframe\n",
    "df_test = pd.DataFrame([ad])\n",
    "\n",
    "X_test = prepare_X(df_test)\n",
    "\n",
    "y_pred = w_0 + X_test.dot(w)\n",
    "y_pred[0]\n",
    "#note that produces the log of the final output"
   ]
  },
  {
   "cell_type": "code",
   "execution_count": 39,
   "id": "4e85601b",
   "metadata": {},
   "outputs": [
    {
     "data": {
      "text/plain": [
       "28294.14"
      ]
     },
     "execution_count": 39,
     "metadata": {},
     "output_type": "execute_result"
    }
   ],
   "source": [
    "#undo the log transform\n",
    "suggested_price = np.expm1(y_pred)\n",
    "round(suggested_price[0], 2)"
   ]
  },
  {
   "cell_type": "code",
   "execution_count": 40,
   "id": "f728956b",
   "metadata": {},
   "outputs": [
    {
     "data": {
      "text/plain": [
       "-2825.86"
      ]
     },
     "execution_count": 40,
     "metadata": {},
     "output_type": "execute_result"
    }
   ],
   "source": [
    "#The actual price of this car is 31120\n",
    "actual_price = 31120\n",
    "diff = round(suggested_price[0] - actual_price, 2)\n",
    "diff\n",
    "#the model was about $2800 too low - which is pretty good"
   ]
  },
  {
   "cell_type": "markdown",
   "id": "ab53ba32",
   "metadata": {},
   "source": [
    "## Challenge Problems\n",
    "\n",
    "### Exercise 1 - write a helper function for binary encoding to call within prepare_X"
   ]
  },
  {
   "cell_type": "code",
   "execution_count": 41,
   "id": "65500bf2",
   "metadata": {},
   "outputs": [],
   "source": [
    "#this is what I should have done when writing the very long prepare_X function\n",
    "\n",
    "def encode_cat(v, col):\n",
    "    #v is a single column of a dataframe (but any one-dimensional iterable should work)\n",
    "    #col is a string used to name output columns\n",
    "    #output is pd.DataFrame of binary values and list of new feature names (strings)\n",
    "    \n",
    "    df = pd.DataFrame()\n",
    "    features = []\n",
    "    \n",
    "    for val in v.unique():\n",
    "        feature =  col + ('_%s' % val)\n",
    "        df[feature] = (v == val).astype(int)\n",
    "        features.append(feature)\n",
    "    \n",
    "    return df, features"
   ]
  },
  {
   "cell_type": "code",
   "execution_count": 42,
   "id": "5e5830b8",
   "metadata": {},
   "outputs": [],
   "source": [
    "#test above function\n",
    "\n",
    "def prepare_X_var2(df):\n",
    "    \n",
    "    df = df.copy() #copy prevents side effects\n",
    "    features = base.copy()\n",
    "    \n",
    "    #calculate age relative to creation of dataset (2017)\n",
    "    df['age'] = 2017 - df.year\n",
    "    features.append('age')\n",
    "    \n",
    "    for col in ['number_of_doors', 'make', 'engine_fuel_type', 'transmission_type',\n",
    "               'driven_wheels', 'market_category', 'vehicle_size',\n",
    "               'vehicle_style']:\n",
    "        col_df, col_feat = encode_cat(df[col], col)\n",
    "        df = pd.concat([df, col_df], axis = 1)\n",
    "        features.extend(col_feat)\n",
    "    \n",
    "    df_num = df[features]\n",
    "    df_num = df_num.fillna(0)\n",
    "    X = df_num.values\n",
    "    return X, features"
   ]
  },
  {
   "cell_type": "code",
   "execution_count": 43,
   "id": "6317a884",
   "metadata": {},
   "outputs": [],
   "source": [
    "X_train2, f = prepare_X_var2(df_train)"
   ]
  },
  {
   "cell_type": "code",
   "execution_count": 44,
   "id": "bce803df",
   "metadata": {},
   "outputs": [
    {
     "data": {
      "text/plain": [
       "True"
      ]
     },
     "execution_count": 44,
     "metadata": {},
     "output_type": "execute_result"
    }
   ],
   "source": [
    "len(X_train2) == len(X_train)"
   ]
  },
  {
   "cell_type": "code",
   "execution_count": 45,
   "id": "18239596",
   "metadata": {},
   "outputs": [
    {
     "data": {
      "text/plain": [
       "(7150, 166)"
      ]
     },
     "execution_count": 45,
     "metadata": {},
     "output_type": "execute_result"
    }
   ],
   "source": [
    "X_train2.shape"
   ]
  },
  {
   "cell_type": "markdown",
   "id": "5e488077",
   "metadata": {},
   "source": [
    "### Exercise 2 - Try additional feature engineering.\n",
    "\n",
    "In the original regression model, we used no more than the top five values for any categorical variable. The `encode_cat() ` function in exercise 1 already extends this to factor all levels of each category, for a total of 169 dimensions in the original DataFrame. However, we will need to substantially modify the code in order to get outputs of the right dimensions for our training/validation/test sets and any simulated outside data.\n",
    "\n",
    "Because of the extent of the redesign, I chose to start from scratch and reload fresh data from the CSV."
   ]
  },
  {
   "cell_type": "code",
   "execution_count": 46,
   "id": "d989ee64",
   "metadata": {},
   "outputs": [],
   "source": [
    "#for this exercise, we need to start with the whole dataset, run through prepare_X_var2, THEN split\n",
    "#if we don't do it this way, we might end up with different dimensions in the training, test,\n",
    "#and validation matrices\n",
    "\n",
    "#start with fresh read of data\n",
    "df = pd.read_csv('data.csv')\n",
    "\n",
    "#lowercase all column names and replace spaces with underscores\n",
    "df.columns = df.columns.str.lower().str.replace(' ', '_')\n",
    "\n",
    "#select all columns with string values\n",
    "string_columns = list(df.dtypes[df.dtypes == 'object'].index)\n",
    "\n",
    "#lowercases and replaces spaces with underscores for all string values\n",
    "for col in string_columns:\n",
    "    df[col] = df[col].str.lower().str.replace(' ', '_')\n",
    "\n",
    "#get number of rows in df\n",
    "n = len(df)\n",
    "\n",
    "#calculates number of rows in each partition\n",
    "n_val = int(0.2 * n)\n",
    "n_test = int(0.2 * n)\n",
    "n_train = n - n_val - n_test\n",
    "\n",
    "#set seed\n",
    "np.random.seed(2) #same seed as above, so dataset should end up split the same way\n",
    "\n",
    "#create array from 0 to n-1 and shuffle\n",
    "idx = np.arange(n)\n",
    "np.random.shuffle(idx)\n",
    "\n",
    "#shuffle original dataframe per output of previous line\n",
    "df_shuffled = df.iloc[idx]\n",
    "\n",
    "#create log transform of msrp for each partition\n",
    "y_train = np.log1p(df_shuffled.iloc[:n_train].copy().msrp.values)\n",
    "y_val = np.log1p(df_shuffled.iloc[n_train:n_train + n_val].copy().msrp.values)\n",
    "y_test = np.log1p(df_shuffled.iloc[n_train + n_val:].copy().msrp.values)\n",
    "\n",
    "del df_shuffled['msrp']\n",
    "\n",
    "X_prepared, features_prepared = prepare_X_var2(df_shuffled)"
   ]
  },
  {
   "cell_type": "code",
   "execution_count": 47,
   "id": "5749094b",
   "metadata": {},
   "outputs": [],
   "source": [
    "#create separate datasets\n",
    "X_train = X_prepared[:n_train,].copy()\n",
    "X_val = X_prepared[n_train:n_train + n_val,].copy()\n",
    "X_test = X_prepared[n_train + n_val:,].copy()"
   ]
  },
  {
   "cell_type": "code",
   "execution_count": 48,
   "id": "c6133b0e",
   "metadata": {},
   "outputs": [
    {
     "name": "stdout",
     "output_type": "stream",
     "text": [
      "1e-06 0.40774\n",
      "1e-05 0.40774\n",
      "0.0001 0.40774\n",
      "0.001 0.40773\n",
      "0.01 0.40766\n",
      "0.1 0.40722\n",
      "1 0.40729\n",
      "10 0.4259\n"
     ]
    }
   ],
   "source": [
    "for r in range(-6,2):\n",
    "    w_0, w = train_linear_regression_reg(X_train, y_train, r = 10**r)\n",
    "    y_pred = w_0 + X_val.dot(w)\n",
    "    print(10**r, round(rmse(y_val, y_pred),5))"
   ]
  },
  {
   "cell_type": "code",
   "execution_count": 49,
   "id": "37d65210",
   "metadata": {},
   "outputs": [
    {
     "name": "stdout",
     "output_type": "stream",
     "text": [
      "validation: 0.40722\n",
      "test: 0.39689\n"
     ]
    }
   ],
   "source": [
    "#it looks like r = 0.1 is slightly better this time\n",
    "w_0, w = train_linear_regression_reg(X_train, y_train, r = 0.1)\n",
    "y_pred = w_0 + X_val.dot(w)\n",
    "print('validation:', round(rmse(y_val, y_pred), 5))\n",
    "\n",
    "y_pred = w_0 + X_test.dot(w)\n",
    "print('test:', round(rmse(y_test, y_pred), 5))"
   ]
  },
  {
   "cell_type": "markdown",
   "id": "8bd2363d",
   "metadata": {},
   "source": [
    "This time, we get even better results - RMSE on both the validation and test sets is about e^0.4 = 1.49, compared to 1.58 without the additional features. That being said, the additional improvement is fairly small. Significant improvement to model accuracy would probably require either additional data, perhaps about the buyers or dealerships, or more advanced models (regression trees might be an option)."
   ]
  },
  {
   "cell_type": "markdown",
   "id": "127e1f2b",
   "metadata": {},
   "source": [
    "In order to get this to work with new data, however, we need to ensure that any new data is transformed properly into the new column format. Because of the way the new encoding function works, it isn't as simple as running it directly through the transform we did earlier. I modified the prepare_X_var2 function to also return the feature list - we will use it here to create a new DataFrame with the right columns."
   ]
  },
  {
   "cell_type": "code",
   "execution_count": 50,
   "id": "9cb8fd47",
   "metadata": {},
   "outputs": [],
   "source": [
    "#use the same car as before\n",
    "ad = {\n",
    "    'city_mpg': 18,\n",
    "    'driven_wheels': 'all_wheel_drive',\n",
    "    'engine_cylinders': 6.0,\n",
    "    'engine_fuel_type': 'regular_unleaded',\n",
    "    'engine_hp': 268.0,\n",
    "    'highway_mpg': 25,\n",
    "    'make': 'toyota',\n",
    "    'market_category': 'crossover,performance',\n",
    "    'model': 'venza',\n",
    "    'number_of_doors': 4.0,\n",
    "    'popularity': 2031,\n",
    "    'transmission_type': 'automatic',\n",
    "    'vehicle_size': 'midsize',\n",
    "    'vehicle_style': 'wagon',\n",
    "    'year': 2013\n",
    "}"
   ]
  },
  {
   "cell_type": "code",
   "execution_count": 51,
   "id": "85808771",
   "metadata": {},
   "outputs": [],
   "source": [
    "#this function will prepare new data to match formatted DataFrame\n",
    "\n",
    "def prepare_data(newcar, f):\n",
    "    #newcar is a dictionary of car attributes - all keys must be strings\n",
    "    #f is the ordered list of features in the regression model\n",
    "    #output is 1d np.array \n",
    "    \n",
    "    init_array = np.zeros(len(f))\n",
    "    car = pd.Series(data = init_array, index = f)\n",
    "    \n",
    "    for k, v in newcar.items():\n",
    "        \n",
    "        #add numeric values with matching keys directly to car Series\n",
    "        if k in car.index and (type(v) == int or type(v) == float):\n",
    "            car[k] = v\n",
    "        \n",
    "        #raise error if key matches but non-numeric value passed\n",
    "        elif k in car.index and type(v) != int and type(v) != float:\n",
    "            raise ValueError('Value for ' + k + ' should be numeric.')\n",
    "        \n",
    "        #year variable gets transformed to age\n",
    "        elif k == 'year':\n",
    "            car['age'] == 2017 - v\n",
    "        \n",
    "        #process categorical variables - 'model' attribute is not included in regression model\n",
    "        else:\n",
    "            idx_name = k + ('_%s' % v)\n",
    "            if idx_name in car.index: #if category exists, assign value of 1 to that index\n",
    "                car[idx_name] = 1\n",
    "            #if category doesn't exist, skip it\n",
    "    \n",
    "    return car.to_numpy()"
   ]
  },
  {
   "cell_type": "markdown",
   "id": "006bc620",
   "metadata": {},
   "source": [
    "Let's also add in a simple function to give us the predicted price for a single car."
   ]
  },
  {
   "cell_type": "code",
   "execution_count": 52,
   "id": "128b6933",
   "metadata": {},
   "outputs": [],
   "source": [
    "def predict_price(car, w_0, w):\n",
    "    #car is a numpy array-like object (np.array, pd.Series, or pd.DataFrame should all work)\n",
    "    #w_0 is numeric bias term from regression model\n",
    "    #w is weights vector from regression model\n",
    "    #output is single numeric value (if car is 1 dimensional) or array (if car is multi-dimensional)\n",
    "    \n",
    "    return np.exp(w_0 + car.dot(w))"
   ]
  },
  {
   "cell_type": "code",
   "execution_count": 53,
   "id": "f7c85a8c",
   "metadata": {},
   "outputs": [
    {
     "name": "stdout",
     "output_type": "stream",
     "text": [
      "Predicted price: 41848.5\n"
     ]
    }
   ],
   "source": [
    "ad_prepared = prepare_data(ad, features_prepared)\n",
    "\n",
    "pred_price = round(predict_price(ad_prepared, w_0, w), 2)\n",
    "print('Predicted price: %s' % pred_price)"
   ]
  },
  {
   "cell_type": "code",
   "execution_count": 54,
   "id": "212e921b",
   "metadata": {},
   "outputs": [
    {
     "data": {
      "text/plain": [
       "10728.5"
      ]
     },
     "execution_count": 54,
     "metadata": {},
     "output_type": "execute_result"
    }
   ],
   "source": [
    "#The actual price of this car is 31120\n",
    "actual_price = 31120\n",
    "diff = round(pred_price - actual_price, 2)\n",
    "diff"
   ]
  },
  {
   "cell_type": "markdown",
   "id": "c3f321d4",
   "metadata": {},
   "source": [
    "For this particular car, our new model actually performed worse than the original with fewer features. The suggested price here ended up being over 10000 dollars higher than the actual price (compared to about 2800 below for the original model). This is not a representative sample, however, and both our test and validation sets had less average error than the mean model."
   ]
  }
 ],
 "metadata": {
  "kernelspec": {
   "display_name": "Python 3.10.7 64-bit",
   "language": "python",
   "name": "python3"
  },
  "language_info": {
   "codemirror_mode": {
    "name": "ipython",
    "version": 3
   },
   "file_extension": ".py",
   "mimetype": "text/x-python",
   "name": "python",
   "nbconvert_exporter": "python",
   "pygments_lexer": "ipython3",
   "version": "3.10.7"
  },
  "vscode": {
   "interpreter": {
    "hash": "82c8a33a08728049f26fbb614ad1c104d8107259a4c22ace17c706593d7a3ab7"
   }
  }
 },
 "nbformat": 4,
 "nbformat_minor": 5
}
